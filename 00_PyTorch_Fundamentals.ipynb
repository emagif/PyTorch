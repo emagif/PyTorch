{
  "nbformat": 4,
  "nbformat_minor": 0,
  "metadata": {
    "colab": {
      "provenance": [],
      "authorship_tag": "ABX9TyP8RK8+trB0A5skot5UPxLa",
      "include_colab_link": true
    },
    "kernelspec": {
      "name": "python3",
      "display_name": "Python 3"
    },
    "language_info": {
      "name": "python"
    }
  },
  "cells": [
    {
      "cell_type": "markdown",
      "metadata": {
        "id": "view-in-github",
        "colab_type": "text"
      },
      "source": [
        "<a href=\"https://colab.research.google.com/github/emagif/PyTorch/blob/main/00_PyTorch_Fundamentals.ipynb\" target=\"_parent\"><img src=\"https://colab.research.google.com/assets/colab-badge.svg\" alt=\"Open In Colab\"/></a>"
      ]
    },
    {
      "cell_type": "markdown",
      "source": [
        "## PyTorch Fundamentals"
      ],
      "metadata": {
        "id": "2Jjvtow8tizt"
      }
    },
    {
      "cell_type": "markdown",
      "source": [
        "Resource Notebook: https://www.learnpytorch.io/00_pytorch_fundamentals/"
      ],
      "metadata": {
        "id": "O_iPrOI9tmDH"
      }
    },
    {
      "cell_type": "code",
      "source": [
        "import torch\n",
        "import pandas as pd\n",
        "import numpy as np\n",
        "import matplotlib.pyplot as plt\n",
        "print(torch.__version__)"
      ],
      "metadata": {
        "colab": {
          "base_uri": "https://localhost:8080/"
        },
        "id": "6O6gfZBhtpZW",
        "outputId": "5352eb6c-f651-4612-faf4-81016ead7805"
      },
      "execution_count": 2,
      "outputs": [
        {
          "output_type": "stream",
          "name": "stdout",
          "text": [
            "2.2.1+cu121\n"
          ]
        }
      ]
    },
    {
      "cell_type": "markdown",
      "source": [
        "### Introduction to Tensors"
      ],
      "metadata": {
        "id": "3bZovZRduoWo"
      }
    },
    {
      "cell_type": "markdown",
      "source": [
        "#### Creating Tensors"
      ],
      "metadata": {
        "id": "YD1T2wspuvdG"
      }
    },
    {
      "cell_type": "markdown",
      "source": [
        "#### Pytorch tensors are created using torch.Tensor()"
      ],
      "metadata": {
        "id": "kgynPSK6vJGV"
      }
    },
    {
      "cell_type": "markdown",
      "source": [
        "# Scalar"
      ],
      "metadata": {
        "id": "b9GAre22uz5o"
      }
    },
    {
      "cell_type": "code",
      "source": [
        "scalar = torch.tensor(7)\n",
        "scalar"
      ],
      "metadata": {
        "colab": {
          "base_uri": "https://localhost:8080/"
        },
        "id": "O8ObscH5u0zb",
        "outputId": "c53abd15-b38b-4644-e49e-90f42ed2a5ef"
      },
      "execution_count": 3,
      "outputs": [
        {
          "output_type": "execute_result",
          "data": {
            "text/plain": [
              "tensor(7)"
            ]
          },
          "metadata": {},
          "execution_count": 3
        }
      ]
    },
    {
      "cell_type": "code",
      "source": [
        "scalar.ndim"
      ],
      "metadata": {
        "colab": {
          "base_uri": "https://localhost:8080/"
        },
        "id": "pZzsYTGgu8Pz",
        "outputId": "b337c5f6-57a1-4fe9-ef78-016cefceffd2"
      },
      "execution_count": 4,
      "outputs": [
        {
          "output_type": "execute_result",
          "data": {
            "text/plain": [
              "0"
            ]
          },
          "metadata": {},
          "execution_count": 4
        }
      ]
    },
    {
      "cell_type": "code",
      "source": [
        "scalar.item()"
      ],
      "metadata": {
        "colab": {
          "base_uri": "https://localhost:8080/"
        },
        "id": "9bgSwBsXvTfr",
        "outputId": "d9811ec4-8866-46b9-d306-0fcb019b09e3"
      },
      "execution_count": 5,
      "outputs": [
        {
          "output_type": "execute_result",
          "data": {
            "text/plain": [
              "7"
            ]
          },
          "metadata": {},
          "execution_count": 5
        }
      ]
    },
    {
      "cell_type": "code",
      "source": [
        "vector = torch.tensor([7, 7])\n",
        "vector"
      ],
      "metadata": {
        "colab": {
          "base_uri": "https://localhost:8080/"
        },
        "id": "WaxnbsRk0E8P",
        "outputId": "4d1efdfd-6f5c-4358-9209-97ec2b4ede9d"
      },
      "execution_count": 6,
      "outputs": [
        {
          "output_type": "execute_result",
          "data": {
            "text/plain": [
              "tensor([7, 7])"
            ]
          },
          "metadata": {},
          "execution_count": 6
        }
      ]
    },
    {
      "cell_type": "code",
      "source": [
        "vector.ndim"
      ],
      "metadata": {
        "colab": {
          "base_uri": "https://localhost:8080/"
        },
        "id": "7VZxnGu00mUP",
        "outputId": "dd86e5af-394e-4ebf-918a-6ecb212605f1"
      },
      "execution_count": 7,
      "outputs": [
        {
          "output_type": "execute_result",
          "data": {
            "text/plain": [
              "1"
            ]
          },
          "metadata": {},
          "execution_count": 7
        }
      ]
    },
    {
      "cell_type": "code",
      "source": [
        "vector.shape"
      ],
      "metadata": {
        "colab": {
          "base_uri": "https://localhost:8080/"
        },
        "id": "zLCMwXke625P",
        "outputId": "35da05fd-ace4-4083-bd78-965f475105b4"
      },
      "execution_count": 8,
      "outputs": [
        {
          "output_type": "execute_result",
          "data": {
            "text/plain": [
              "torch.Size([2])"
            ]
          },
          "metadata": {},
          "execution_count": 8
        }
      ]
    },
    {
      "cell_type": "code",
      "source": [],
      "metadata": {
        "id": "tpA53BTz673u"
      },
      "execution_count": 8,
      "outputs": []
    },
    {
      "cell_type": "markdown",
      "source": [
        "# Matrix"
      ],
      "metadata": {
        "id": "xGO2Lb2_7BeA"
      }
    },
    {
      "cell_type": "code",
      "source": [
        "MATRIX = torch.tensor([[7, 8], [9, 10]])\n",
        "MATRIX"
      ],
      "metadata": {
        "colab": {
          "base_uri": "https://localhost:8080/"
        },
        "id": "damuxven7CoW",
        "outputId": "f79f0613-dd39-4d7b-9a12-a6f153468f3f"
      },
      "execution_count": 9,
      "outputs": [
        {
          "output_type": "execute_result",
          "data": {
            "text/plain": [
              "tensor([[ 7,  8],\n",
              "        [ 9, 10]])"
            ]
          },
          "metadata": {},
          "execution_count": 9
        }
      ]
    },
    {
      "cell_type": "code",
      "source": [
        "MATRIX.ndim"
      ],
      "metadata": {
        "colab": {
          "base_uri": "https://localhost:8080/"
        },
        "id": "BFFfD-rM7LlG",
        "outputId": "6b7b4e71-4b6f-46f0-8a2f-04792afeda2e"
      },
      "execution_count": 10,
      "outputs": [
        {
          "output_type": "execute_result",
          "data": {
            "text/plain": [
              "2"
            ]
          },
          "metadata": {},
          "execution_count": 10
        }
      ]
    },
    {
      "cell_type": "code",
      "source": [
        "MATRIX.shape"
      ],
      "metadata": {
        "colab": {
          "base_uri": "https://localhost:8080/"
        },
        "id": "GMtzNQs07NJW",
        "outputId": "1310f221-69b8-4806-f9e5-cc564e17ea7f"
      },
      "execution_count": 11,
      "outputs": [
        {
          "output_type": "execute_result",
          "data": {
            "text/plain": [
              "torch.Size([2, 2])"
            ]
          },
          "metadata": {},
          "execution_count": 11
        }
      ]
    },
    {
      "cell_type": "code",
      "source": [
        "MATRIX[0]"
      ],
      "metadata": {
        "colab": {
          "base_uri": "https://localhost:8080/"
        },
        "id": "CQGW7on57Of-",
        "outputId": "283edf4a-a21d-4805-a30d-f9ae23e1316d"
      },
      "execution_count": 12,
      "outputs": [
        {
          "output_type": "execute_result",
          "data": {
            "text/plain": [
              "tensor([7, 8])"
            ]
          },
          "metadata": {},
          "execution_count": 12
        }
      ]
    },
    {
      "cell_type": "code",
      "source": [
        "MATRIX[1]"
      ],
      "metadata": {
        "colab": {
          "base_uri": "https://localhost:8080/"
        },
        "id": "1PXpIlMe855P",
        "outputId": "f11033dd-89fc-4e08-917f-d7afc78342bd"
      },
      "execution_count": 13,
      "outputs": [
        {
          "output_type": "execute_result",
          "data": {
            "text/plain": [
              "tensor([ 9, 10])"
            ]
          },
          "metadata": {},
          "execution_count": 13
        }
      ]
    },
    {
      "cell_type": "code",
      "source": [],
      "metadata": {
        "id": "Ytza2GHl88XG"
      },
      "execution_count": 13,
      "outputs": []
    },
    {
      "cell_type": "markdown",
      "source": [
        "# Tensor\n"
      ],
      "metadata": {
        "id": "v_ro4hmB9FEp"
      }
    },
    {
      "cell_type": "code",
      "source": [
        "TENSOR = torch.tensor([[[1, 2, 3], [3, 6, 7], [2, 1, 5]]])\n",
        "TENSOR"
      ],
      "metadata": {
        "colab": {
          "base_uri": "https://localhost:8080/"
        },
        "id": "7wgxrkkC9HDW",
        "outputId": "ca6bb87e-bb35-4a28-bd73-ef81086d2482"
      },
      "execution_count": 14,
      "outputs": [
        {
          "output_type": "execute_result",
          "data": {
            "text/plain": [
              "tensor([[[1, 2, 3],\n",
              "         [3, 6, 7],\n",
              "         [2, 1, 5]]])"
            ]
          },
          "metadata": {},
          "execution_count": 14
        }
      ]
    },
    {
      "cell_type": "code",
      "source": [
        "TENSOR.ndim"
      ],
      "metadata": {
        "colab": {
          "base_uri": "https://localhost:8080/"
        },
        "id": "IFMnA0GE9R2m",
        "outputId": "9012a288-e028-4997-aff5-19585ec91af1"
      },
      "execution_count": 15,
      "outputs": [
        {
          "output_type": "execute_result",
          "data": {
            "text/plain": [
              "3"
            ]
          },
          "metadata": {},
          "execution_count": 15
        }
      ]
    },
    {
      "cell_type": "code",
      "source": [
        "TENSOR.shape"
      ],
      "metadata": {
        "colab": {
          "base_uri": "https://localhost:8080/"
        },
        "id": "n2CmSLCl9ax2",
        "outputId": "090360e3-c8c0-44a0-c752-783c0ccb0380"
      },
      "execution_count": 16,
      "outputs": [
        {
          "output_type": "execute_result",
          "data": {
            "text/plain": [
              "torch.Size([1, 3, 3])"
            ]
          },
          "metadata": {},
          "execution_count": 16
        }
      ]
    },
    {
      "cell_type": "code",
      "source": [
        "TENSOR[0]"
      ],
      "metadata": {
        "colab": {
          "base_uri": "https://localhost:8080/"
        },
        "id": "1WdsoeS19b1W",
        "outputId": "f7d5b694-245d-40de-e24d-78b6e3c4d3e7"
      },
      "execution_count": 17,
      "outputs": [
        {
          "output_type": "execute_result",
          "data": {
            "text/plain": [
              "tensor([[1, 2, 3],\n",
              "        [3, 6, 7],\n",
              "        [2, 1, 5]])"
            ]
          },
          "metadata": {},
          "execution_count": 17
        }
      ]
    },
    {
      "cell_type": "code",
      "source": [
        "tensor1 = torch.tensor([[[1, 2, 3, 4, 5], [4, 5, 6, 7, 8], [9, 0, 2, 3, 4]]])\n",
        "tensor1"
      ],
      "metadata": {
        "colab": {
          "base_uri": "https://localhost:8080/"
        },
        "id": "EOHoR1Fb9i9V",
        "outputId": "75ededb8-35ed-43ef-87de-151a55a18cd7"
      },
      "execution_count": 18,
      "outputs": [
        {
          "output_type": "execute_result",
          "data": {
            "text/plain": [
              "tensor([[[1, 2, 3, 4, 5],\n",
              "         [4, 5, 6, 7, 8],\n",
              "         [9, 0, 2, 3, 4]]])"
            ]
          },
          "metadata": {},
          "execution_count": 18
        }
      ]
    },
    {
      "cell_type": "code",
      "source": [
        "tensor1.shape"
      ],
      "metadata": {
        "colab": {
          "base_uri": "https://localhost:8080/"
        },
        "id": "kkVc694098vO",
        "outputId": "ceabe8b8-51cc-454c-d871-51e7eda075fc"
      },
      "execution_count": 19,
      "outputs": [
        {
          "output_type": "execute_result",
          "data": {
            "text/plain": [
              "torch.Size([1, 3, 5])"
            ]
          },
          "metadata": {},
          "execution_count": 19
        }
      ]
    },
    {
      "cell_type": "code",
      "source": [
        "tensor1.ndim"
      ],
      "metadata": {
        "colab": {
          "base_uri": "https://localhost:8080/"
        },
        "id": "NT0Y4YR399oW",
        "outputId": "f0f4d394-f2e2-48ff-92e9-c5a86299bb39"
      },
      "execution_count": 20,
      "outputs": [
        {
          "output_type": "execute_result",
          "data": {
            "text/plain": [
              "3"
            ]
          },
          "metadata": {},
          "execution_count": 20
        }
      ]
    },
    {
      "cell_type": "markdown",
      "source": [
        "### Random tensors\n",
        "\n",
        "Why random tensors?\n",
        "\n",
        "Random tensors are important because the way many neural networks learn is that they start with tensors full or random numbers and thej adjust those random numbers to better represent the data.\n",
        "\n",
        "'Start with random numbers -> look at data -> update random numbers -> look at data -> update'"
      ],
      "metadata": {
        "id": "TaQjdARwlaFC"
      }
    },
    {
      "cell_type": "code",
      "source": [
        "random_tensor = torch.rand(3, 4)\n",
        "random_tensor"
      ],
      "metadata": {
        "colab": {
          "base_uri": "https://localhost:8080/"
        },
        "id": "jS5j3Mq7leNH",
        "outputId": "8ac64bb0-7b60-4b54-edb6-49dddfa663b7"
      },
      "execution_count": 21,
      "outputs": [
        {
          "output_type": "execute_result",
          "data": {
            "text/plain": [
              "tensor([[0.9421, 0.0200, 0.6606, 0.4973],\n",
              "        [0.7832, 0.9424, 0.5205, 0.9079],\n",
              "        [0.7849, 0.9955, 0.5528, 0.3831]])"
            ]
          },
          "metadata": {},
          "execution_count": 21
        }
      ]
    },
    {
      "cell_type": "code",
      "source": [
        "random_tensor.ndim"
      ],
      "metadata": {
        "colab": {
          "base_uri": "https://localhost:8080/"
        },
        "id": "3Hgwh30OmCkW",
        "outputId": "5fab12f6-88ae-4442-ae0b-3af6197653dd"
      },
      "execution_count": 22,
      "outputs": [
        {
          "output_type": "execute_result",
          "data": {
            "text/plain": [
              "2"
            ]
          },
          "metadata": {},
          "execution_count": 22
        }
      ]
    },
    {
      "cell_type": "code",
      "source": [
        "random_image_tensor = torch.rand(size=(224, 224, 3))\n",
        "random_image_tensor"
      ],
      "metadata": {
        "colab": {
          "base_uri": "https://localhost:8080/"
        },
        "id": "VNh3p_09m3VP",
        "outputId": "6c9645ac-3676-4abb-a876-72416323b896"
      },
      "execution_count": 23,
      "outputs": [
        {
          "output_type": "execute_result",
          "data": {
            "text/plain": [
              "tensor([[[0.8122, 0.0112, 0.6576],\n",
              "         [0.6146, 0.1574, 0.7324],\n",
              "         [0.8634, 0.9843, 0.6239],\n",
              "         ...,\n",
              "         [0.4822, 0.7409, 0.6344],\n",
              "         [0.8203, 0.4721, 0.6968],\n",
              "         [0.3641, 0.8801, 0.8977]],\n",
              "\n",
              "        [[0.3097, 0.8947, 0.5477],\n",
              "         [0.9929, 0.3105, 0.6683],\n",
              "         [0.3060, 0.4789, 0.2944],\n",
              "         ...,\n",
              "         [0.6667, 0.0439, 0.3109],\n",
              "         [0.0494, 0.8191, 0.7095],\n",
              "         [0.1215, 0.6141, 0.8010]],\n",
              "\n",
              "        [[0.9760, 0.7001, 0.4491],\n",
              "         [0.9929, 0.0853, 0.7607],\n",
              "         [0.2449, 0.0789, 0.9487],\n",
              "         ...,\n",
              "         [0.0054, 0.0616, 0.1696],\n",
              "         [0.2475, 0.7078, 0.7445],\n",
              "         [0.9915, 0.0426, 0.6006]],\n",
              "\n",
              "        ...,\n",
              "\n",
              "        [[0.0281, 0.1805, 0.8007],\n",
              "         [0.9561, 0.3515, 0.9544],\n",
              "         [0.2280, 0.9721, 0.0586],\n",
              "         ...,\n",
              "         [0.3509, 0.3977, 0.2889],\n",
              "         [0.0146, 0.5830, 0.6799],\n",
              "         [0.0662, 0.7339, 0.0113]],\n",
              "\n",
              "        [[0.3009, 0.2937, 0.3856],\n",
              "         [0.6898, 0.5042, 0.1890],\n",
              "         [0.5014, 0.0158, 0.1444],\n",
              "         ...,\n",
              "         [0.1539, 0.9707, 0.3132],\n",
              "         [0.3592, 0.5582, 0.7504],\n",
              "         [0.0926, 0.3681, 0.2408]],\n",
              "\n",
              "        [[0.6857, 0.9767, 0.2439],\n",
              "         [0.5644, 0.9672, 0.6317],\n",
              "         [0.3994, 0.1264, 0.0262],\n",
              "         ...,\n",
              "         [0.8072, 0.1225, 0.5563],\n",
              "         [0.8264, 0.0038, 0.0995],\n",
              "         [0.1495, 0.1087, 0.7859]]])"
            ]
          },
          "metadata": {},
          "execution_count": 23
        }
      ]
    },
    {
      "cell_type": "code",
      "source": [
        "random_image_tensor.ndim"
      ],
      "metadata": {
        "colab": {
          "base_uri": "https://localhost:8080/"
        },
        "id": "b5y7DpOHnTCO",
        "outputId": "2ae5a69e-0812-4c45-bc42-f60c5b28b423"
      },
      "execution_count": 25,
      "outputs": [
        {
          "output_type": "execute_result",
          "data": {
            "text/plain": [
              "3"
            ]
          },
          "metadata": {},
          "execution_count": 25
        }
      ]
    },
    {
      "cell_type": "code",
      "source": [
        "random_image_tensor.shape\n"
      ],
      "metadata": {
        "colab": {
          "base_uri": "https://localhost:8080/"
        },
        "id": "eMcRlpIenX8V",
        "outputId": "d9b6f300-1f34-46ee-d3df-a6af74487b7e"
      },
      "execution_count": 26,
      "outputs": [
        {
          "output_type": "execute_result",
          "data": {
            "text/plain": [
              "torch.Size([224, 224, 3])"
            ]
          },
          "metadata": {},
          "execution_count": 26
        }
      ]
    },
    {
      "cell_type": "markdown",
      "source": [
        "## Zeros and ones"
      ],
      "metadata": {
        "id": "9_Jef9zgoeoq"
      }
    },
    {
      "cell_type": "code",
      "source": [
        "zero = torch.zeros(3, 4)\n",
        "zero"
      ],
      "metadata": {
        "colab": {
          "base_uri": "https://localhost:8080/"
        },
        "id": "jfOyFvHOogXd",
        "outputId": "93ce63e8-79c0-4cda-ece1-175a6aa30f4a"
      },
      "execution_count": 28,
      "outputs": [
        {
          "output_type": "execute_result",
          "data": {
            "text/plain": [
              "tensor([[0., 0., 0., 0.],\n",
              "        [0., 0., 0., 0.],\n",
              "        [0., 0., 0., 0.]])"
            ]
          },
          "metadata": {},
          "execution_count": 28
        }
      ]
    },
    {
      "cell_type": "code",
      "source": [
        "zero*random_tensor"
      ],
      "metadata": {
        "colab": {
          "base_uri": "https://localhost:8080/"
        },
        "id": "0dno-_EWolE-",
        "outputId": "6723a1a6-cda4-49f6-e487-8d71795d359c"
      },
      "execution_count": 30,
      "outputs": [
        {
          "output_type": "execute_result",
          "data": {
            "text/plain": [
              "tensor([[0., 0., 0., 0.],\n",
              "        [0., 0., 0., 0.],\n",
              "        [0., 0., 0., 0.]])"
            ]
          },
          "metadata": {},
          "execution_count": 30
        }
      ]
    },
    {
      "cell_type": "code",
      "source": [
        "ones = torch.ones(3, 4)\n",
        "ones"
      ],
      "metadata": {
        "colab": {
          "base_uri": "https://localhost:8080/"
        },
        "id": "Fr2kJrR4oovm",
        "outputId": "cd332a49-fdd0-4e25-9844-a797ac4255ff"
      },
      "execution_count": 31,
      "outputs": [
        {
          "output_type": "execute_result",
          "data": {
            "text/plain": [
              "tensor([[1., 1., 1., 1.],\n",
              "        [1., 1., 1., 1.],\n",
              "        [1., 1., 1., 1.]])"
            ]
          },
          "metadata": {},
          "execution_count": 31
        }
      ]
    },
    {
      "cell_type": "code",
      "source": [
        "ones.dtype"
      ],
      "metadata": {
        "colab": {
          "base_uri": "https://localhost:8080/"
        },
        "id": "D3YPc_pxowP-",
        "outputId": "00c8563b-8386-4821-fa07-eaab03727a58"
      },
      "execution_count": 32,
      "outputs": [
        {
          "output_type": "execute_result",
          "data": {
            "text/plain": [
              "torch.float32"
            ]
          },
          "metadata": {},
          "execution_count": 32
        }
      ]
    },
    {
      "cell_type": "code",
      "source": [
        "random_tensor.dtype"
      ],
      "metadata": {
        "colab": {
          "base_uri": "https://localhost:8080/"
        },
        "id": "KmuRwebdoxde",
        "outputId": "1af72d4e-fbf8-4755-8940-ef09cde0d5d4"
      },
      "execution_count": 33,
      "outputs": [
        {
          "output_type": "execute_result",
          "data": {
            "text/plain": [
              "torch.float32"
            ]
          },
          "metadata": {},
          "execution_count": 33
        }
      ]
    },
    {
      "cell_type": "code",
      "source": [],
      "metadata": {
        "id": "A84NvwKnoz5e"
      },
      "execution_count": null,
      "outputs": []
    },
    {
      "cell_type": "markdown",
      "source": [
        "# Create a range od tensor and tensors-like"
      ],
      "metadata": {
        "id": "BMjz2wUWo_KZ"
      }
    },
    {
      "cell_type": "code",
      "source": [
        "one_to_ten = torch.arange(0, 10)"
      ],
      "metadata": {
        "id": "Qbi5LCFfpCVW"
      },
      "execution_count": 38,
      "outputs": []
    },
    {
      "cell_type": "markdown",
      "source": [
        "## Creating tensors-like"
      ],
      "metadata": {
        "id": "lrXngmY2qoZ6"
      }
    },
    {
      "cell_type": "code",
      "source": [
        "ten_zeroes = torch.zeros_like(input = one_to_ten)\n",
        "ten_zeroes"
      ],
      "metadata": {
        "colab": {
          "base_uri": "https://localhost:8080/"
        },
        "id": "e3atPvH-qsrV",
        "outputId": "664835bc-7b9c-4088-8307-40e4ea3b84ae"
      },
      "execution_count": 41,
      "outputs": [
        {
          "output_type": "execute_result",
          "data": {
            "text/plain": [
              "tensor([0, 0, 0, 0, 0, 0, 0, 0, 0, 0])"
            ]
          },
          "metadata": {},
          "execution_count": 41
        }
      ]
    },
    {
      "cell_type": "markdown",
      "source": [
        "## Tensor datatypes\n",
        "\n",
        "Tensor datatypes is one of the 3 big errors you'll run into with PyTorch & deep learning:\n",
        "1. Tensors not right datatype\n",
        "2. Tensors not right shape\n",
        "3. Tensors not on the right device"
      ],
      "metadata": {
        "id": "JeUr-R4urRLj"
      }
    },
    {
      "cell_type": "code",
      "source": [
        "# Float 32 tensor\n",
        "float_32_tensor = torch.tensor([3.0, 6.0, 9.0], dtype = None)\n",
        "float_32_tensor"
      ],
      "metadata": {
        "colab": {
          "base_uri": "https://localhost:8080/"
        },
        "id": "LtRB8MA7rSnM",
        "outputId": "9c79bb90-7b53-4fc2-8bf0-ca1e0a8f6fbd"
      },
      "execution_count": 44,
      "outputs": [
        {
          "output_type": "execute_result",
          "data": {
            "text/plain": [
              "tensor([3., 6., 9.])"
            ]
          },
          "metadata": {},
          "execution_count": 44
        }
      ]
    },
    {
      "cell_type": "code",
      "source": [],
      "metadata": {
        "id": "E8gGaoVurgYe"
      },
      "execution_count": null,
      "outputs": []
    }
  ]
}